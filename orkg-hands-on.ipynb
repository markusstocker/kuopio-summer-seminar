{
 "cells": [
  {
   "cell_type": "code",
   "execution_count": null,
   "id": "054c82a4-9d54-4934-89ae-2d5ee58afefc",
   "metadata": {
    "tags": []
   },
   "outputs": [],
   "source": [
    "!pip install orkg==0.18.0"
   ]
  },
  {
   "cell_type": "code",
   "execution_count": null,
   "id": "455ee63c-25cb-4f13-a76b-9607b1d3194f",
   "metadata": {
    "tags": []
   },
   "outputs": [],
   "source": [
    "from orkg import ORKG, OID\n",
    "\n",
    "orkg = ORKG(host=\"https://incubating.orkg.org\")"
   ]
  },
  {
   "cell_type": "code",
   "execution_count": null,
   "id": "25e07db7-6d96-44d1-a65b-7c22d1b7861b",
   "metadata": {
    "tags": []
   },
   "outputs": [],
   "source": [
    "df = orkg.contributions.compare_dataframe(comparison_id='R44930')"
   ]
  },
  {
   "cell_type": "code",
   "execution_count": null,
   "id": "9807318b-a217-414c-ae33-7675df095bb6",
   "metadata": {
    "tags": []
   },
   "outputs": [],
   "source": [
    "df.head(11)"
   ]
  },
  {
   "cell_type": "code",
   "execution_count": null,
   "id": "8e47e9c2-f88f-49ca-af1f-8ed5ffb859ff",
   "metadata": {
    "tags": []
   },
   "outputs": [],
   "source": [
    "# Compute the mean of 'Has value'\n",
    "\n",
    "# Plot the 'Has value'"
   ]
  },
  {
   "cell_type": "code",
   "execution_count": null,
   "id": "9a09ea10-5da5-4295-becf-5eca27261254",
   "metadata": {
    "tags": []
   },
   "outputs": [],
   "source": [
    "orkg.templates.materialize_template(\"R40006\")\n",
    "tp = orkg.templates"
   ]
  },
  {
   "cell_type": "code",
   "execution_count": null,
   "id": "4f3ee057-1a76-41d3-a26a-a4a484f7babd",
   "metadata": {
    "tags": []
   },
   "outputs": [],
   "source": [
    "print(tp.basic_reproduction_number_estimate.__doc__)"
   ]
  },
  {
   "cell_type": "code",
   "execution_count": null,
   "id": "fee6d8bc-5c8a-4074-b934-6d4b41a0965c",
   "metadata": {
    "tags": []
   },
   "outputs": [],
   "source": [
    "tp.basic_reproduction_number_estimate(\n",
    "    label=\"COVID-19 basic reproduction number estimation\",\n",
    "    time_period=tp.time_interval(\n",
    "        has_beginning=\"2020-01-03\",\n",
    "        has_end=\"2020-03-01\"\n",
    "    ),\n",
    "    location=tp.location(\n",
    "        label=\"Kuopio\",\n",
    "        same_as=\"http://www.wikidata.org/entity/Q162279\",\n",
    "    ),\n",
    "    basic_reproduction_number=tp.basic_reproduction_number_estimate_value_specification(\n",
    "        has_value=\"3.1\",\n",
    "        confidence_interval_95=tp.confidence_interval_95(\n",
    "            lower_confidence_limit=\"2.5\",\n",
    "            upper_confidence_limit=\"3.7\"\n",
    "        )\n",
    "    )\n",
    ").serialize_to_file(\"data/article.contribution.json\", format=\"json-ld\")"
   ]
  },
  {
   "cell_type": "code",
   "execution_count": null,
   "id": "daab634d-66c9-4d95-9c7b-cdd1bd588044",
   "metadata": {
    "tags": []
   },
   "outputs": [],
   "source": [
    "orkg.harvesters.directory_harvest(\n",
    "     directory=\"data\",\n",
    "     research_field=\"Epidemiology\",\n",
    "     title=\"Estimating COVID-19 basic reproduction number\",\n",
    "     authors=[\"Jane Doe\",\"John Doe\"],\n",
    "     publication_year=\"2023\",\n",
    "     published_in=\"Epidemiology\",\n",
    "     doi=\"https://doi.org/10.1000/xyz.12345\"\n",
    ")"
   ]
  },
  {
   "cell_type": "code",
   "execution_count": null,
   "id": "9a7cf68c-0e75-4015-9f60-7b4bf615bf46",
   "metadata": {},
   "outputs": [],
   "source": []
  }
 ],
 "metadata": {
  "kernelspec": {
   "display_name": "Python 3 (ipykernel)",
   "language": "python",
   "name": "python3"
  },
  "language_info": {
   "codemirror_mode": {
    "name": "ipython",
    "version": 3
   },
   "file_extension": ".py",
   "mimetype": "text/x-python",
   "name": "python",
   "nbconvert_exporter": "python",
   "pygments_lexer": "ipython3",
   "version": "3.10.10"
  }
 },
 "nbformat": 4,
 "nbformat_minor": 5
}
