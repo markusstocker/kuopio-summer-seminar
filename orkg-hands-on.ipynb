{
 "cells": [
  {
   "cell_type": "code",
   "execution_count": null,
   "id": "054c82a4-9d54-4934-89ae-2d5ee58afefc",
   "metadata": {
    "tags": []
   },
   "outputs": [],
   "source": [
    "!pip install orkg==0.18.0"
   ]
  },
  {
   "cell_type": "code",
   "execution_count": null,
   "id": "455ee63c-25cb-4f13-a76b-9607b1d3194f",
   "metadata": {
    "tags": []
   },
   "outputs": [],
   "source": [
    "import os\n",
    "import pandas as pd\n",
    "from orkg import ORKG, OID"
   ]
  },
  {
   "cell_type": "markdown",
   "id": "415b1938-c105-4b91-9af5-1a236dce84bf",
   "metadata": {},
   "source": [
    "Create a connection to ORKG (incubating)"
   ]
  },
  {
   "cell_type": "code",
   "execution_count": null,
   "id": "1986b02e-b1fe-4ceb-bc0c-2f650035e487",
   "metadata": {
    "tags": []
   },
   "outputs": [],
   "source": [
    "orkg = ORKG(host=\"https://incubating.orkg.org\")"
   ]
  },
  {
   "cell_type": "markdown",
   "id": "504de88b-8f96-4b9d-8cdf-1a2c22a37e56",
   "metadata": {},
   "source": [
    "Read the data of the comparison https://incubating.orkg.org/comparison/R44930"
   ]
  },
  {
   "cell_type": "code",
   "execution_count": null,
   "id": "25e07db7-6d96-44d1-a65b-7c22d1b7861b",
   "metadata": {
    "tags": []
   },
   "outputs": [],
   "source": [
    "df1 = orkg.contributions.compare_dataframe(comparison_id='R44930')"
   ]
  },
  {
   "cell_type": "code",
   "execution_count": null,
   "id": "9807318b-a217-414c-ae33-7675df095bb6",
   "metadata": {
    "tags": []
   },
   "outputs": [],
   "source": [
    "df1.head(11)"
   ]
  },
  {
   "cell_type": "markdown",
   "id": "544df335-7e5b-4bcd-bb2e-0228b50e178b",
   "metadata": {},
   "source": [
    "Now complete the following tasks"
   ]
  },
  {
   "cell_type": "code",
   "execution_count": null,
   "id": "8e47e9c2-f88f-49ca-af1f-8ed5ffb859ff",
   "metadata": {
    "tags": []
   },
   "outputs": [],
   "source": [
    "# Compute the mean of 'Has value'\n",
    "\n",
    "# Plot the 'Has value'"
   ]
  },
  {
   "cell_type": "markdown",
   "id": "d56aa543-a4bf-4b91-a8fe-d42b80651b0c",
   "metadata": {},
   "source": [
    "Next, read the data of the comparison https://incubating.orkg.org/comparison/R41466 as data frame `df2` and compute the mean value. Then read the microbe-scope CSV data and create a scatter plot of basic reproduction number and case fatality rate for all infections diseases included in the microbe-scope and the mean values for COVID-19 computed here."
   ]
  },
  {
   "cell_type": "code",
   "execution_count": null,
   "id": "c92f0b16-ad07-48e1-9cbc-5357b42b4130",
   "metadata": {
    "tags": []
   },
   "outputs": [],
   "source": []
  },
  {
   "cell_type": "markdown",
   "id": "b5fe7442-f1e3-42f0-947d-e36bd5637d5d",
   "metadata": {},
   "source": [
    "Let's create some new scientific knowledge using template (https://incubating.orkg.org/template/R40006, whic supports describing basic reproduction number estimates. We first load the template specification in the environment."
   ]
  },
  {
   "cell_type": "code",
   "execution_count": null,
   "id": "9a09ea10-5da5-4295-becf-5eca27261254",
   "metadata": {
    "tags": []
   },
   "outputs": [],
   "source": [
    "orkg.templates.materialize_template(\"R40006\")\n",
    "tp = orkg.templates"
   ]
  },
  {
   "cell_type": "code",
   "execution_count": null,
   "id": "f909136a-8b94-4d81-b383-ed7bdb329a4e",
   "metadata": {
    "tags": []
   },
   "outputs": [],
   "source": [
    "if not os.path.exists(\"data\"):\n",
    "   os.makedirs(\"data\")"
   ]
  },
  {
   "cell_type": "markdown",
   "id": "0cd43b68-bf73-4131-9558-de13fe91b113",
   "metadata": {},
   "source": [
    "We have now a Python-native API that we can use to obtain documentation and create new data programmatically. "
   ]
  },
  {
   "cell_type": "code",
   "execution_count": null,
   "id": "4f3ee057-1a76-41d3-a26a-a4a484f7babd",
   "metadata": {
    "tags": []
   },
   "outputs": [],
   "source": [
    "print(tp.basic_reproduction_number_estimate.__doc__)"
   ]
  },
  {
   "cell_type": "code",
   "execution_count": null,
   "id": "fee6d8bc-5c8a-4074-b934-6d4b41a0965c",
   "metadata": {
    "tags": []
   },
   "outputs": [],
   "source": [
    "tp.basic_reproduction_number_estimate(\n",
    "    label=\"COVID-19 basic reproduction number estimation\",\n",
    "    time_period=tp.time_interval(\n",
    "        has_beginning=\"2020-01-03\",\n",
    "        has_end=\"2020-03-01\"\n",
    "    ),\n",
    "    location=tp.location(\n",
    "        label=\"Kuopio\",\n",
    "        same_as=\"http://www.wikidata.org/entity/Q162279\",\n",
    "    ),\n",
    "    basic_reproduction_number=tp.basic_reproduction_number_estimate_value_specification(\n",
    "        has_value=\"3.1\",\n",
    "        confidence_interval_95=tp.confidence_interval_95(\n",
    "            lower_confidence_limit=\"2.5\",\n",
    "            upper_confidence_limit=\"3.7\"\n",
    "        )\n",
    "    )\n",
    ").serialize_to_file(\"data/article.contribution.json\", format=\"json-ld\")"
   ]
  },
  {
   "cell_type": "markdown",
   "id": "2590ef73-3ce8-43f0-b194-f96ab4074f4d",
   "metadata": {},
   "source": [
    "Finally, we harvest the new data in ORKG"
   ]
  },
  {
   "cell_type": "code",
   "execution_count": null,
   "id": "daab634d-66c9-4d95-9c7b-cdd1bd588044",
   "metadata": {
    "tags": []
   },
   "outputs": [],
   "source": [
    "r = orkg.harvesters.directory_harvest(\n",
    "     directory=\"data\",\n",
    "     research_field=\"Epidemiology\",\n",
    "     title=\"Estimating COVID-19 basic reproduction number\",\n",
    "     authors=[\"Jane Doe\",\"John Doe\"],\n",
    "     publication_year=\"2023\",\n",
    "     published_in=\"Epidemiology\",\n",
    "     doi=\"https://doi.org/10.1000/xyz.12345\"\n",
    ")"
   ]
  },
  {
   "cell_type": "code",
   "execution_count": null,
   "id": "b98bc1df-8d06-46b3-9de9-3be0fa53f937",
   "metadata": {
    "tags": []
   },
   "outputs": [],
   "source": [
    "print(\"Check the harvested data in ORKG at: https://incubating.orkg.org/paper/{}\".format(r.content[\"id\"]))"
   ]
  },
  {
   "cell_type": "code",
   "execution_count": null,
   "id": "4312c496-1ab5-4cc0-9944-d51e46d7f244",
   "metadata": {},
   "outputs": [],
   "source": []
  }
 ],
 "metadata": {
  "kernelspec": {
   "display_name": "Python 3 (ipykernel)",
   "language": "python",
   "name": "python3"
  },
  "language_info": {
   "codemirror_mode": {
    "name": "ipython",
    "version": 3
   },
   "file_extension": ".py",
   "mimetype": "text/x-python",
   "name": "python",
   "nbconvert_exporter": "python",
   "pygments_lexer": "ipython3",
   "version": "3.10.10"
  }
 },
 "nbformat": 4,
 "nbformat_minor": 5
}
